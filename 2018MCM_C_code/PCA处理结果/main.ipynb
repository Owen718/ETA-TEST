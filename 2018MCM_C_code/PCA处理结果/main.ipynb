{
 "cells": [
  {
   "cell_type": "code",
   "execution_count": 228,
   "metadata": {},
   "outputs": [],
   "source": [
    "import matplotlib.pyplot as plt\n",
    "import pandas as pd\n",
    "from datetime import datetime \n"
   ]
  },
  {
   "cell_type": "code",
   "execution_count": 229,
   "metadata": {},
   "outputs": [
    {
     "data": {
      "text/html": [
       "<div>\n",
       "<style scoped>\n",
       "    .dataframe tbody tr th:only-of-type {\n",
       "        vertical-align: middle;\n",
       "    }\n",
       "\n",
       "    .dataframe tbody tr th {\n",
       "        vertical-align: top;\n",
       "    }\n",
       "\n",
       "    .dataframe thead th {\n",
       "        text-align: right;\n",
       "    }\n",
       "</style>\n",
       "<table border=\"1\" class=\"dataframe\">\n",
       "  <thead>\n",
       "    <tr style=\"text-align: right;\">\n",
       "      <th></th>\n",
       "      <th>data</th>\n",
       "    </tr>\n",
       "  </thead>\n",
       "  <tbody>\n",
       "    <tr>\n",
       "      <th>1989-01-01</th>\n",
       "      <td>-0.646066</td>\n",
       "    </tr>\n",
       "    <tr>\n",
       "      <th>1990-01-01</th>\n",
       "      <td>-0.535212</td>\n",
       "    </tr>\n",
       "    <tr>\n",
       "      <th>1991-01-01</th>\n",
       "      <td>-0.559775</td>\n",
       "    </tr>\n",
       "    <tr>\n",
       "      <th>1992-01-01</th>\n",
       "      <td>-0.708050</td>\n",
       "    </tr>\n",
       "    <tr>\n",
       "      <th>1993-01-01</th>\n",
       "      <td>-0.496445</td>\n",
       "    </tr>\n",
       "    <tr>\n",
       "      <th>1994-01-01</th>\n",
       "      <td>-0.442424</td>\n",
       "    </tr>\n",
       "    <tr>\n",
       "      <th>1995-01-01</th>\n",
       "      <td>-0.508518</td>\n",
       "    </tr>\n",
       "    <tr>\n",
       "      <th>1996-01-01</th>\n",
       "      <td>-0.501293</td>\n",
       "    </tr>\n",
       "    <tr>\n",
       "      <th>1997-01-01</th>\n",
       "      <td>-0.679699</td>\n",
       "    </tr>\n",
       "    <tr>\n",
       "      <th>1998-01-01</th>\n",
       "      <td>-0.565425</td>\n",
       "    </tr>\n",
       "    <tr>\n",
       "      <th>1999-01-01</th>\n",
       "      <td>-0.348012</td>\n",
       "    </tr>\n",
       "    <tr>\n",
       "      <th>2000-01-01</th>\n",
       "      <td>-0.323970</td>\n",
       "    </tr>\n",
       "    <tr>\n",
       "      <th>2001-01-01</th>\n",
       "      <td>-0.311913</td>\n",
       "    </tr>\n",
       "    <tr>\n",
       "      <th>2002-01-01</th>\n",
       "      <td>-0.417199</td>\n",
       "    </tr>\n",
       "    <tr>\n",
       "      <th>2003-01-01</th>\n",
       "      <td>-0.273946</td>\n",
       "    </tr>\n",
       "    <tr>\n",
       "      <th>2004-01-01</th>\n",
       "      <td>-0.201815</td>\n",
       "    </tr>\n",
       "    <tr>\n",
       "      <th>2005-01-01</th>\n",
       "      <td>-0.239187</td>\n",
       "    </tr>\n",
       "    <tr>\n",
       "      <th>2006-01-01</th>\n",
       "      <td>-0.257361</td>\n",
       "    </tr>\n",
       "    <tr>\n",
       "      <th>2007-01-01</th>\n",
       "      <td>-0.430429</td>\n",
       "    </tr>\n",
       "    <tr>\n",
       "      <th>2008-01-01</th>\n",
       "      <td>-0.561215</td>\n",
       "    </tr>\n",
       "    <tr>\n",
       "      <th>2009-01-01</th>\n",
       "      <td>-0.201742</td>\n",
       "    </tr>\n",
       "  </tbody>\n",
       "</table>\n",
       "</div>"
      ],
      "text/plain": [
       "                data\n",
       "1989-01-01 -0.646066\n",
       "1990-01-01 -0.535212\n",
       "1991-01-01 -0.559775\n",
       "1992-01-01 -0.708050\n",
       "1993-01-01 -0.496445\n",
       "1994-01-01 -0.442424\n",
       "1995-01-01 -0.508518\n",
       "1996-01-01 -0.501293\n",
       "1997-01-01 -0.679699\n",
       "1998-01-01 -0.565425\n",
       "1999-01-01 -0.348012\n",
       "2000-01-01 -0.323970\n",
       "2001-01-01 -0.311913\n",
       "2002-01-01 -0.417199\n",
       "2003-01-01 -0.273946\n",
       "2004-01-01 -0.201815\n",
       "2005-01-01 -0.239187\n",
       "2006-01-01 -0.257361\n",
       "2007-01-01 -0.430429\n",
       "2008-01-01 -0.561215\n",
       "2009-01-01 -0.201742"
      ]
     },
     "execution_count": 229,
     "metadata": {},
     "output_type": "execute_result"
    }
   ],
   "source": [
    "#读取数据\n",
    "dateparser = lambda dates:datetime.strptime(dates,'%Y')\n",
    "data_csv = pd.read_csv('./TX/Clean_index.csv',parse_dates= ['year'],index_col='year',date_parser=dateparser)\n",
    "data_csv = data_csv[29:50]\n",
    "index = pd.date_range(start = data_csv.index.min(),end=data_csv.index.max(),freq='AS')\n",
    "\n",
    "data_csv.reindex(index)\n"
   ]
  },
  {
   "cell_type": "code",
   "execution_count": 230,
   "metadata": {},
   "outputs": [
    {
     "data": {
      "text/plain": [
       "DatetimeIndex(['1989-01-01', '1990-01-01', '1991-01-01', '1992-01-01',\n",
       "               '1993-01-01', '1994-01-01', '1995-01-01', '1996-01-01',\n",
       "               '1997-01-01', '1998-01-01', '1999-01-01', '2000-01-01',\n",
       "               '2001-01-01', '2002-01-01', '2003-01-01', '2004-01-01',\n",
       "               '2005-01-01', '2006-01-01', '2007-01-01', '2008-01-01',\n",
       "               '2009-01-01'],\n",
       "              dtype='datetime64[ns]', name='year', freq=None)"
      ]
     },
     "execution_count": 230,
     "metadata": {},
     "output_type": "execute_result"
    }
   ],
   "source": [
    "data_csv.index"
   ]
  },
  {
   "cell_type": "code",
   "execution_count": 231,
   "metadata": {},
   "outputs": [
    {
     "data": {
      "text/plain": [
       "(array([5.96578222]), array([0.01458613]))"
      ]
     },
     "execution_count": 231,
     "metadata": {},
     "output_type": "execute_result"
    }
   ],
   "source": [
    "#单位根校验、白噪声校验\n",
    "from statsmodels.stats.diagnostic import  acorr_ljungbox\n",
    "acorr_ljungbox(data_csv.data,lags=1) #大于0.05,为非白噪声"
   ]
  },
  {
   "cell_type": "code",
   "execution_count": 232,
   "metadata": {},
   "outputs": [],
   "source": [
    "import statsmodels.api as sm\n",
    "from statsmodels.tsa.arima_model import ARIMA\n",
    "from statsmodels.tsa.seasonal import  seasonal_decompose\n",
    "from statsmodels.tsa.stattools import adfuller as ADF\n",
    "from datetime import  datetime\n",
    "\n",
    "def autocorrelation(timeseries,lags):\n",
    "    fig = plt.figure(figsize=(12,8))\n",
    "    ax1 = fig.add_subplot(211)\n",
    "    sm.graphics.tsa.plot_acf(timeseries,lags=lags,ax=ax1)\n",
    "    ax2 = fig.add_subplot(212)\n",
    "    sm.graphics.tsa.plot_pacf(timeseries,lags=lags,ax=ax2)\n",
    "    plt.show()\n",
    "def diff(timeseries):\n",
    "    timeseries_diff1 = timeseries.diff(1)\n",
    "    timeseries_diff2 = timeseries_diff1.diff(1)\n",
    "\n",
    "    timeseries_diff1 = timeseries_diff1.fillna(0)\n",
    "    timeseries_diff2 = timeseries_diff2.fillna(0)\n",
    "\n",
    "\n",
    "    timeseries_adf = ADF(timeseries.tolist())\n",
    "    timeseries_diff1_adf = ADF(timeseries_diff1.tolist())\n",
    "    timeseries_diff2_adf = ADF(timeseries_diff2.tolist())\n",
    "\n",
    "    print('timeseries_adf : ', timeseries_adf)\n",
    "    print('timeseries_diff1_adf : ', timeseries_diff1_adf)\n",
    "    print('timeseries_diff2_adf : ', timeseries_diff2_adf)\n",
    "\n",
    "    plt.figure(figsize=(12, 8))\n",
    "    plt.plot(timeseries, label='Original', color='blue')\n",
    "    plt.plot(timeseries_diff1, label='Diff1', color='red')\n",
    "    plt.plot(timeseries_diff2, label='Diff2', color='purple')\n",
    "    plt.legend(loc='best')\n",
    "    plt.show()"
   ]
  },
  {
   "cell_type": "code",
   "execution_count": 233,
   "metadata": {},
   "outputs": [
    {
     "name": "stdout",
     "output_type": "stream",
     "text": [
      "timeseries_adf :  (-2.168564282297051, 0.21785194454621748, 0, 20, {'1%': -3.8092091249999998, '5%': -3.0216450000000004, '10%': -2.6507125}, -14.78430211847024)\n",
      "timeseries_diff1_adf :  (-5.3399680389612465, 4.522849668013161e-06, 8, 12, {'1%': -4.137829282407408, '5%': -3.1549724074074077, '10%': -2.7144769444444443}, -30.4005777369413)\n",
      "timeseries_diff2_adf :  (-3.040789820618686, 0.03125676879154505, 8, 12, {'1%': -4.137829282407408, '5%': -3.1549724074074077, '10%': -2.7144769444444443}, -20.375238818436557)\n"
     ]
    },
    {
     "data": {
      "image/png": "[encoded data removed]",
      "text/plain": [
       "<Figure size 864x576 with 1 Axes>"
      ]
     },
     "metadata": {
      "needs_background": "light"
     },
     "output_type": "display_data"
    }
   ],
   "source": [
    "diff(data_csv.data) #一阶差分！"
   ]
  },
  {
   "cell_type": "code",
   "execution_count": 234,
   "metadata": {},
   "outputs": [
    {
     "name": "stderr",
     "output_type": "stream",
     "text": [
      "C:\\Users\\Owen\\Anaconda3\\lib\\site-packages\\statsmodels\\base\\model.py:492: HessianInversionWarning: Inverting hessian failed, no bse or cov_params available\n",
      "  'available', HessianInversionWarning)\n",
      "C:\\Users\\Owen\\Anaconda3\\lib\\site-packages\\statsmodels\\base\\model.py:492: HessianInversionWarning: Inverting hessian failed, no bse or cov_params available\n",
      "  'available', HessianInversionWarning)\n",
      "C:\\Users\\Owen\\Anaconda3\\lib\\site-packages\\statsmodels\\base\\model.py:492: HessianInversionWarning: Inverting hessian failed, no bse or cov_params available\n",
      "  'available', HessianInversionWarning)\n",
      "C:\\Users\\Owen\\Anaconda3\\lib\\site-packages\\statsmodels\\base\\model.py:492: HessianInversionWarning: Inverting hessian failed, no bse or cov_params available\n",
      "  'available', HessianInversionWarning)\n",
      "C:\\Users\\Owen\\Anaconda3\\lib\\site-packages\\statsmodels\\base\\model.py:492: HessianInversionWarning: Inverting hessian failed, no bse or cov_params available\n",
      "  'available', HessianInversionWarning)\n",
      "C:\\Users\\Owen\\Anaconda3\\lib\\site-packages\\statsmodels\\base\\model.py:512: ConvergenceWarning: Maximum Likelihood optimization failed to converge. Check mle_retvals\n",
      "  \"Check mle_retvals\", ConvergenceWarning)\n",
      "C:\\Users\\Owen\\Anaconda3\\lib\\site-packages\\statsmodels\\tsa\\tsatools.py:668: RuntimeWarning: invalid value encountered in true_divide\n",
      "  newparams = ((1-np.exp(-params))/(1+np.exp(-params))).copy()\n",
      "C:\\Users\\Owen\\Anaconda3\\lib\\site-packages\\statsmodels\\tsa\\tsatools.py:669: RuntimeWarning: invalid value encountered in true_divide\n",
      "  tmp = ((1-np.exp(-params))/(1+np.exp(-params))).copy()\n",
      "C:\\Users\\Owen\\Anaconda3\\lib\\site-packages\\statsmodels\\base\\model.py:492: HessianInversionWarning: Inverting hessian failed, no bse or cov_params available\n",
      "  'available', HessianInversionWarning)\n",
      "C:\\Users\\Owen\\Anaconda3\\lib\\site-packages\\statsmodels\\base\\model.py:512: ConvergenceWarning: Maximum Likelihood optimization failed to converge. Check mle_retvals\n",
      "  \"Check mle_retvals\", ConvergenceWarning)\n",
      "C:\\Users\\Owen\\Anaconda3\\lib\\site-packages\\statsmodels\\base\\model.py:492: HessianInversionWarning: Inverting hessian failed, no bse or cov_params available\n",
      "  'available', HessianInversionWarning)\n",
      "C:\\Users\\Owen\\Anaconda3\\lib\\site-packages\\statsmodels\\base\\model.py:492: HessianInversionWarning: Inverting hessian failed, no bse or cov_params available\n",
      "  'available', HessianInversionWarning)\n",
      "C:\\Users\\Owen\\Anaconda3\\lib\\site-packages\\statsmodels\\base\\model.py:492: HessianInversionWarning: Inverting hessian failed, no bse or cov_params available\n",
      "  'available', HessianInversionWarning)\n",
      "C:\\Users\\Owen\\Anaconda3\\lib\\site-packages\\statsmodels\\base\\model.py:512: ConvergenceWarning: Maximum Likelihood optimization failed to converge. Check mle_retvals\n",
      "  \"Check mle_retvals\", ConvergenceWarning)\n",
      "C:\\Users\\Owen\\Anaconda3\\lib\\site-packages\\statsmodels\\base\\model.py:492: HessianInversionWarning: Inverting hessian failed, no bse or cov_params available\n",
      "  'available', HessianInversionWarning)\n",
      "C:\\Users\\Owen\\Anaconda3\\lib\\site-packages\\statsmodels\\base\\model.py:492: HessianInversionWarning: Inverting hessian failed, no bse or cov_params available\n",
      "  'available', HessianInversionWarning)\n",
      "C:\\Users\\Owen\\Anaconda3\\lib\\site-packages\\statsmodels\\base\\model.py:512: ConvergenceWarning: Maximum Likelihood optimization failed to converge. Check mle_retvals\n",
      "  \"Check mle_retvals\", ConvergenceWarning)\n",
      "C:\\Users\\Owen\\Anaconda3\\lib\\site-packages\\statsmodels\\base\\model.py:492: HessianInversionWarning: Inverting hessian failed, no bse or cov_params available\n",
      "  'available', HessianInversionWarning)\n",
      "C:\\Users\\Owen\\Anaconda3\\lib\\site-packages\\statsmodels\\base\\model.py:492: HessianInversionWarning: Inverting hessian failed, no bse or cov_params available\n",
      "  'available', HessianInversionWarning)\n",
      "C:\\Users\\Owen\\Anaconda3\\lib\\site-packages\\statsmodels\\base\\model.py:492: HessianInversionWarning: Inverting hessian failed, no bse or cov_params available\n",
      "  'available', HessianInversionWarning)\n",
      "C:\\Users\\Owen\\Anaconda3\\lib\\site-packages\\statsmodels\\base\\model.py:512: ConvergenceWarning: Maximum Likelihood optimization failed to converge. Check mle_retvals\n",
      "  \"Check mle_retvals\", ConvergenceWarning)\n",
      "C:\\Users\\Owen\\Anaconda3\\lib\\site-packages\\statsmodels\\base\\model.py:492: HessianInversionWarning: Inverting hessian failed, no bse or cov_params available\n",
      "  'available', HessianInversionWarning)\n",
      "C:\\Users\\Owen\\Anaconda3\\lib\\site-packages\\statsmodels\\base\\model.py:512: ConvergenceWarning: Maximum Likelihood optimization failed to converge. Check mle_retvals\n",
      "  \"Check mle_retvals\", ConvergenceWarning)\n"
     ]
    },
    {
     "name": "stdout",
     "output_type": "stream",
     "text": [
      "data AIC (5, 0)\n",
      "data BIC (1, 0)\n"
     ]
    },
    {
     "name": "stderr",
     "output_type": "stream",
     "text": [
      "C:\\Users\\Owen\\Anaconda3\\lib\\site-packages\\statsmodels\\base\\model.py:492: HessianInversionWarning: Inverting hessian failed, no bse or cov_params available\n",
      "  'available', HessianInversionWarning)\n"
     ]
    }
   ],
   "source": [
    "trend_evaluate = sm.tsa.arma_order_select_ic(data_csv.data, ic=['aic', 'bic'], trend='nc', max_ar=5,max_ma=5)\n",
    "print('data AIC', trend_evaluate.aic_min_order)\n",
    "print('data BIC', trend_evaluate.bic_min_order)"
   ]
  },
  {
   "cell_type": "code",
   "execution_count": 236,
   "metadata": {},
   "outputs": [
    {
     "data": {
      "text/plain": [
       "year\n",
       "1989-01-01   -0.646066\n",
       "1990-01-01   -0.535212\n",
       "1991-01-01   -0.559775\n",
       "1992-01-01   -0.708050\n",
       "1993-01-01   -0.496445\n",
       "1994-01-01   -0.442424\n",
       "1995-01-01   -0.508518\n",
       "1996-01-01   -0.501293\n",
       "1997-01-01   -0.679699\n",
       "1998-01-01   -0.565425\n",
       "1999-01-01   -0.348012\n",
       "2000-01-01   -0.323970\n",
       "2001-01-01   -0.311913\n",
       "2002-01-01   -0.417199\n",
       "2003-01-01   -0.273946\n",
       "2004-01-01   -0.201815\n",
       "2005-01-01   -0.239187\n",
       "2006-01-01   -0.257361\n",
       "2007-01-01   -0.430429\n",
       "2008-01-01   -0.561215\n",
       "2009-01-01   -0.201742\n",
       "Name: data, dtype: float64"
      ]
     },
     "execution_count": 236,
     "metadata": {},
     "output_type": "execute_result"
    }
   ],
   "source": [
    "data_csv.data"
   ]
  },
  {
   "cell_type": "code",
   "execution_count": 240,
   "metadata": {},
   "outputs": [
    {
     "name": "stderr",
     "output_type": "stream",
     "text": [
      "C:\\Users\\Owen\\Anaconda3\\lib\\site-packages\\statsmodels\\tsa\\base\\tsa_model.py:165: ValueWarning: No frequency information was provided, so inferred frequency AS-JAN will be used.\n",
      "  % freq, ValueWarning)\n"
     ]
    }
   ],
   "source": [
    "\n",
    "def ARIMA_Model(timeseries, order):\n",
    "    model = ARIMA(timeseries, order=order)\n",
    "    return model.fit(disp=0)\n",
    "\n",
    "trend_model = ARIMA_Model(data_csv.data,(1,0,0))\n",
    "trend_fit_seq = trend_model.fittedvalues\n",
    "trend_predict_seq = trend_model.predict(start=\"2009\",end=\"2050\",dynamic=True)"
   ]
  },
  {
   "cell_type": "code",
   "execution_count": 242,
   "metadata": {},
   "outputs": [
    {
     "data": {
      "text/plain": [
       "2009-01-01   -0.509716\n",
       "2010-01-01   -0.479537\n",
       "2011-01-01   -0.461851\n",
       "2012-01-01   -0.451487\n",
       "2013-01-01   -0.445414\n",
       "2014-01-01   -0.441854\n",
       "2015-01-01   -0.439769\n",
       "2016-01-01   -0.438546\n",
       "2017-01-01   -0.437830\n",
       "2018-01-01   -0.437410\n",
       "2019-01-01   -0.437164\n",
       "2020-01-01   -0.437020\n",
       "2021-01-01   -0.436936\n",
       "2022-01-01   -0.436886\n",
       "2023-01-01   -0.436857\n",
       "2024-01-01   -0.436840\n",
       "2025-01-01   -0.436830\n",
       "2026-01-01   -0.436824\n",
       "2027-01-01   -0.436821\n",
       "2028-01-01   -0.436819\n",
       "2029-01-01   -0.436818\n",
       "2030-01-01   -0.436817\n",
       "2031-01-01   -0.436817\n",
       "2032-01-01   -0.436816\n",
       "2033-01-01   -0.436816\n",
       "2034-01-01   -0.436816\n",
       "2035-01-01   -0.436816\n",
       "2036-01-01   -0.436816\n",
       "2037-01-01   -0.436816\n",
       "2038-01-01   -0.436816\n",
       "2039-01-01   -0.436816\n",
       "2040-01-01   -0.436816\n",
       "2041-01-01   -0.436816\n",
       "2042-01-01   -0.436816\n",
       "2043-01-01   -0.436816\n",
       "2044-01-01   -0.436816\n",
       "2045-01-01   -0.436816\n",
       "2046-01-01   -0.436816\n",
       "2047-01-01   -0.436816\n",
       "2048-01-01   -0.436816\n",
       "2049-01-01   -0.436816\n",
       "2050-01-01   -0.436816\n",
       "Freq: AS-JAN, dtype: float64"
      ]
     },
     "execution_count": 242,
     "metadata": {},
     "output_type": "execute_result"
    }
   ],
   "source": [
    "#trend_predict_seq = predict_diff_recover(trend_predict_seq,)\n",
    "trend_predict_seq"
   ]
  },
  {
   "cell_type": "code",
   "execution_count": 243,
   "metadata": {},
   "outputs": [
    {
     "data": {
      "text/plain": [
       "[<matplotlib.lines.Line2D at 0x1c0feb63c48>]"
      ]
     },
     "execution_count": 243,
     "metadata": {},
     "output_type": "execute_result"
    },
    {
     "data": {
      "image/png": "[encoded data removed]",
      "text/plain": [
       "<Figure size 432x288 with 1 Axes>"
      ]
     },
     "metadata": {
      "needs_background": "light"
     },
     "output_type": "display_data"
    }
   ],
   "source": [
    "plt.plot(trend_predict_seq)"
   ]
  },
  {
   "cell_type": "code",
   "execution_count": 244,
   "metadata": {},
   "outputs": [
    {
     "ename": "SyntaxError",
     "evalue": "invalid syntax (<ipython-input-244-99a1e3a8ac1b>, line 1)",
     "output_type": "error",
     "traceback": [
      "\u001b[1;36m  File \u001b[1;32m\"<ipython-input-244-99a1e3a8ac1b>\"\u001b[1;36m, line \u001b[1;32m1\u001b[0m\n\u001b[1;33m    data:image/png;base64,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\u001b[0m\n\u001b[1;37m                                                                                                                                                                                                                                                                                                                                                                                                                                                                                                                                                                                                                                                                                                                                                                                               ^\u001b[0m\n\u001b[1;31mSyntaxError\u001b[0m\u001b[1;31m:\u001b[0m invalid syntax\n"
     ]
    }
   ],
   "source": [
    "\n",
    "data:image/png;base64,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\n",
    "\n",
    "def decomposing(timeseries):\n",
    "    decomposition = seasonal_decompose(timeseries)\n",
    "    trend = decomposition.trend\n",
    "    seasonal = decomposition.seasonal\n",
    "    residual = decomposition.resid\n",
    "\n",
    "    plt.figure(figsize=(16, 12))\n",
    "    plt.subplot(411)\n",
    "    plt.plot(timeseries, label='Original')\n",
    "    plt.legend(loc='best')\n",
    "    plt.subplot(412)\n",
    "    plt.plot(trend, label='Trend')\n",
    "    plt.legend(loc='best')\n",
    "    plt.subplot(413)\n",
    "    plt.plot(seasonal, label='Seasonarity')\n",
    "    plt.legend(loc='best')\n",
    "    plt.subplot(414)\n",
    "    plt.plot(residual, label='Residual')\n",
    "    plt.legend(loc='best')\n",
    "    plt.show()\n",
    "    \n"
   ]
  },
  {
   "cell_type": "code",
   "execution_count": 245,
   "metadata": {},
   "outputs": [
    {
     "data": {
      "text/html": [
       "<table class=\"simpletable\">\n",
       "<tr>\n",
       "        <td>Model:</td>              <td>ARMA</td>               <td>BIC:</td>          <td>-17.4734</td> \n",
       "</tr>\n",
       "<tr>\n",
       "  <td>Dependent Variable:</td>       <td>data</td>          <td>Log-Likelihood:</td>     <td>13.303</td>  \n",
       "</tr>\n",
       "<tr>\n",
       "         <td>Date:</td>        <td>2021-01-28 18:36</td>        <td>Scale:</td>          <td>1.0000</td>  \n",
       "</tr>\n",
       "<tr>\n",
       "   <td>No. Observations:</td>         <td>21</td>               <td>Method:</td>         <td>css-mle</td> \n",
       "</tr>\n",
       "<tr>\n",
       "       <td>Df Model:</td>              <td>2</td>               <td>Sample:</td>       <td>01-01-1989</td>\n",
       "</tr>\n",
       "<tr>\n",
       "     <td>Df Residuals:</td>           <td>19</td>                  <td></td>           <td>01-01-2009</td>\n",
       "</tr>\n",
       "<tr>\n",
       "      <td>Converged:</td>           <td>1.0000</td>      <td>S.D. of innovations:</td>    <td>0.127</td>  \n",
       "</tr>\n",
       "<tr>\n",
       "    <td>No. Iterations:</td>        <td>9.0000</td>              <td>HQIC:</td>          <td>-19.927</td> \n",
       "</tr>\n",
       "<tr>\n",
       "         <td>AIC:</td>             <td>-20.6070</td>               <td></td>                <td></td>     \n",
       "</tr>\n",
       "</table>\n",
       "<table class=\"simpletable\">\n",
       "<tr>\n",
       "       <td></td>       <th>Coef.</th>  <th>Std.Err.</th>    <th>t</th>     <th>P>|t|</th> <th>[0.025</th>  <th>0.975]</th> \n",
       "</tr>\n",
       "<tr>\n",
       "  <th>const</th>      <td>-0.4368</td>  <td>0.0629</td>  <td>-6.9420</td> <td>0.0000</td> <td>-0.5601</td> <td>-0.3135</td>\n",
       "</tr>\n",
       "<tr>\n",
       "  <th>ar.L1.data</th> <td>0.5860</td>   <td>0.1915</td>  <td>3.0605</td>  <td>0.0064</td> <td>0.2107</td>  <td>0.9613</td> \n",
       "</tr>\n",
       "</table>\n",
       "<table class=\"simpletable\">\n",
       "<tr>\n",
       "    <td></td>    <th>Real</th>  <th>Imaginary</th> <th>Modulus</th> <th>Frequency</th>\n",
       "</tr>\n",
       "<tr>\n",
       "  <th>AR.1</th> <td>1.7064</td>  <td>0.0000</td>   <td>1.7064</td>   <td>0.0000</td>  \n",
       "</tr>\n",
       "</table>"
      ],
      "text/plain": [
       "<class 'statsmodels.iolib.summary2.Summary'>\n",
       "\"\"\"\n",
       "                           Results: ARMA\n",
       "====================================================================\n",
       "Model:              ARMA             BIC:                 -17.4734  \n",
       "Dependent Variable: data             Log-Likelihood:      13.303    \n",
       "Date:               2021-01-28 18:36 Scale:               1.0000    \n",
       "No. Observations:   21               Method:              css-mle   \n",
       "Df Model:           2                Sample:              01-01-1989\n",
       "Df Residuals:       19                                    01-01-2009\n",
       "Converged:          1.0000           S.D. of innovations: 0.127     \n",
       "No. Iterations:     9.0000           HQIC:                -19.927   \n",
       "AIC:                -20.6070                                        \n",
       "----------------------------------------------------------------------\n",
       "              Coef.    Std.Err.      t      P>|t|     [0.025    0.975]\n",
       "----------------------------------------------------------------------\n",
       "const        -0.4368     0.0629   -6.9420   0.0000   -0.5601   -0.3135\n",
       "ar.L1.data    0.5860     0.1915    3.0605   0.0064    0.2107    0.9613\n",
       "-----------------------------------------------------------------------------\n",
       "                 Real           Imaginary          Modulus          Frequency\n",
       "-----------------------------------------------------------------------------\n",
       "AR.1            1.7064             0.0000           1.7064             0.0000\n",
       "====================================================================\n",
       "\n",
       "\"\"\""
      ]
     },
     "execution_count": 245,
     "metadata": {},
     "output_type": "execute_result"
    }
   ],
   "source": [
    "trend_model.summary2()"
   ]
  },
  {
   "cell_type": "code",
   "execution_count": 246,
   "metadata": {},
   "outputs": [
    {
     "data": {
      "image/png": "[encoded data removed]",
      "text/plain": [
       "<Figure size 864x576 with 2 Axes>"
      ]
     },
     "metadata": {
      "needs_background": "light"
     },
     "output_type": "display_data"
    }
   ],
   "source": [
    "autocorrelation(trend_predict_seq,lags=5)"
   ]
  },
  {
   "cell_type": "code",
   "execution_count": null,
   "metadata": {},
   "outputs": [],
   "source": []
  },
  {
   "cell_type": "code",
   "execution_count": null,
   "metadata": {},
   "outputs": [],
   "source": []
  }
 ],
 "metadata": {
  "kernelspec": {
   "display_name": "Python 3",
   "language": "python",
   "name": "python3"
  },
  "language_info": {
   "codemirror_mode": {
    "name": "ipython",
    "version": 3
   },
   "file_extension": ".py",
   "mimetype": "text/x-python",
   "name": "python",
   "nbconvert_exporter": "python",
   "pygments_lexer": "ipython3",
   "version": "3.7.4"
  }
 },
 "nbformat": 4,
 "nbformat_minor": 2
}
