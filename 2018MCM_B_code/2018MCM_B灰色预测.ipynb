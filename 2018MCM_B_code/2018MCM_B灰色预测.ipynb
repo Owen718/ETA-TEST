{
 "cells": [
  {
   "cell_type": "code",
   "execution_count": 67,
   "metadata": {},
   "outputs": [],
   "source": [
    "import pandas as pd\n",
    "import numpy as np\n",
    "\n",
    "\n",
    "%matplotlib inline\n",
    "import matplotlib.pyplot as plt\n",
    "\n",
    "matplotlib.rcParams['font.sans-serif'] = ['FangSong'] #指定默认字体\n",
    "matplotlib.rcParams['axes.unicode_minus'] = False #解决保存图像是负号‘-’显示为方块的问题"
   ]
  },
  {
   "cell_type": "markdown",
   "metadata": {},
   "source": [
    "# 框架\n",
    "* 引入、整理数据\n",
    "* 校验数据是否合格\n",
    "* GM(1,1)建模\n",
    "* 将最新的预测数据当做真实值继续预测\n",
    "* 输出结果"
   ]
  },
  {
   "cell_type": "code",
   "execution_count": 68,
   "metadata": {},
   "outputs": [
    {
     "data": {
      "text/html": [
       "<div>\n",
       "<style scoped>\n",
       "    .dataframe tbody tr th:only-of-type {\n",
       "        vertical-align: middle;\n",
       "    }\n",
       "\n",
       "    .dataframe tbody tr th {\n",
       "        vertical-align: top;\n",
       "    }\n",
       "\n",
       "    .dataframe thead th {\n",
       "        text-align: right;\n",
       "    }\n",
       "</style>\n",
       "<table border=\"1\" class=\"dataframe\">\n",
       "  <thead>\n",
       "    <tr style=\"text-align: right;\">\n",
       "      <th></th>\n",
       "      <th>years</th>\n",
       "      <th>money</th>\n",
       "    </tr>\n",
       "  </thead>\n",
       "  <tbody>\n",
       "    <tr>\n",
       "      <td>6</td>\n",
       "      <td>2013</td>\n",
       "      <td>217.69</td>\n",
       "    </tr>\n",
       "    <tr>\n",
       "      <td>7</td>\n",
       "      <td>2014</td>\n",
       "      <td>296.39</td>\n",
       "    </tr>\n",
       "    <tr>\n",
       "      <td>8</td>\n",
       "      <td>2015</td>\n",
       "      <td>440.69</td>\n",
       "    </tr>\n",
       "    <tr>\n",
       "      <td>9</td>\n",
       "      <td>2016</td>\n",
       "      <td>457.12</td>\n",
       "    </tr>\n",
       "    <tr>\n",
       "      <td>10</td>\n",
       "      <td>2017</td>\n",
       "      <td>559.11</td>\n",
       "    </tr>\n",
       "  </tbody>\n",
       "</table>\n",
       "</div>"
      ],
      "text/plain": [
       "    years   money\n",
       "6    2013  217.69\n",
       "7    2014  296.39\n",
       "8    2015  440.69\n",
       "9    2016  457.12\n",
       "10   2017  559.11"
      ]
     },
     "execution_count": 68,
     "metadata": {},
     "output_type": "execute_result"
    }
   ],
   "source": [
    "f = open('电影票房.csv')\n",
    "df = pd.read_csv(f)\n",
    "df.tail()\n"
   ]
  },
  {
   "cell_type": "code",
   "execution_count": 69,
   "metadata": {
    "code_folding": []
   },
   "outputs": [],
   "source": [
    "import pandas as pd\n",
    "class GrayForecast():\n",
    "    def __init__(self, data, datacolumn=None):\n",
    "        if isinstance(data,pd.core.frame.DataFrame):\n",
    "            self.data=data\n",
    "            try:\n",
    "                self.data.columns = ['数据']\n",
    "            except:\n",
    "                if not datacolumn:\n",
    "                    raise Exception('您传入的dataframe不止一列')\n",
    "                else:\n",
    "                    self.data = pd.DataFrame(data[datacolumn])\n",
    "                    self.data.columns=['数据']\n",
    "        elif isinstance(data, pd.core.series.Series):\n",
    "            self.data = pd.DataFrame(data, columns=['数据'])\n",
    "        else:\n",
    "            self.data = pd.DataFrame(data, columns=['数据'])\n",
    "\n",
    "        self.forecast_list = self.data.copy()\n",
    "\n",
    "        if datacolumn:\n",
    "            self.datacolumn = datacolumn\n",
    "        else:\n",
    "            self.datacolumn = None\n",
    "        #save arg:\n",
    "        #        data                DataFrame    数据\n",
    "        #        forecast_list       DataFrame    预测序列\n",
    "        #        datacolumn          string       数据的含义\n",
    "    def level_check(self):\n",
    "        # 数据级比校验\n",
    "        n = len(self.data)\n",
    "        lambda_k = np.zeros(n-1)\n",
    "        for i in range(n-1):\n",
    "            lambda_k[i] = self.data.ix[i][\"数据\"]/self.data.ix[i+1][\"数据\"]\n",
    "            if lambda_k[i] < np.exp(-2/(n+1)) or lambda_k[i] > np.exp(2/(n+2)):\n",
    "                flag = False\n",
    "        else:\n",
    "            flag = True\n",
    "\n",
    "        self.lambda_k = lambda_k\n",
    "\n",
    "        if not flag:\n",
    "            print(\"级比校验失败，请对X(0)做平移变换\")\n",
    "            return False\n",
    "        else:\n",
    "            print(\"级比校验成功，请继续\")\n",
    "            return True\n",
    "\n",
    "        #save arg:\n",
    "        #        lambda_k            1-d list\n",
    "    def GM_11_build_model(self, forecast=5):\n",
    "        if forecast > len(self.data):\n",
    "            raise Exception('您的数据行不够')\n",
    "        X_0 = np.array(self.forecast_list['数据'].tail(forecast))\n",
    "    #       1-AGO\n",
    "        X_1 = np.zeros(X_0.shape)\n",
    "        for i in range(X_0.shape[0]):\n",
    "            X_1[i] = np.sum(X_0[0:i+1])\n",
    "    #       紧邻均值生成序列\n",
    "        Z_1 = np.zeros(X_1.shape[0]-1)\n",
    "        for i in range(1, X_1.shape[0]):\n",
    "            Z_1[i-1] = -0.5*(X_1[i]+X_1[i-1])\n",
    "\n",
    "        B = np.append(np.array(np.mat(Z_1).T), np.ones(Z_1.shape).reshape((Z_1.shape[0], 1)), axis=1)\n",
    "        Yn = X_0[1:].reshape((X_0[1:].shape[0], 1))\n",
    "\n",
    "        B = np.mat(B)\n",
    "        Yn = np.mat(Yn)\n",
    "        a_ = (B.T*B)**-1 * B.T * Yn\n",
    "\n",
    "        a, b = np.array(a_.T)[0]\n",
    "\n",
    "        X_ = np.zeros(X_0.shape[0])\n",
    "        def f(k):\n",
    "            return (X_0[0]-b/a)*(1-np.exp(a))*np.exp(-a*(k))\n",
    "\n",
    "        self.forecast_list.loc[len(self.forecast_list)] = f(X_.shape[0])\n",
    "    def forecast(self, time=5, forecast_data_len=5):\n",
    "        for i in range(time):\n",
    "            self.GM_11_build_model(forecast=forecast_data_len)\n",
    "    \n",
    "    def log(self):\n",
    "        res = self.forecast_list.copy()\n",
    "        if self.datacolumn:\n",
    "            res.columns = [self.datacolumn]\n",
    "        return res\n",
    "    def reset(self):\n",
    "        self.forecast_list = self.data.copy()\n",
    "    def plot(self):\n",
    "        self.forecast_list.plot()\n",
    "        if self.datacolumn:\n",
    "            plt.ylabel(self.datacolumn)\n",
    "            plt.legend([self.datacolumn])"
   ]
  },
  {
   "cell_type": "code",
   "execution_count": 66,
   "metadata": {},
   "outputs": [
    {
     "ename": "AttributeError",
     "evalue": "module 'matplotlib' has no attribute 'ylabel'",
     "output_type": "error",
     "traceback": [
      "\u001b[1;31m---------------------------------------------------------------------------\u001b[0m",
      "\u001b[1;31mAttributeError\u001b[0m                            Traceback (most recent call last)",
      "\u001b[1;32m<ipython-input-66-b16cb4d78171>\u001b[0m in \u001b[0;36m<module>\u001b[1;34m\u001b[0m\n\u001b[0;32m      3\u001b[0m \u001b[0mgrayforecast\u001b[0m\u001b[1;33m.\u001b[0m\u001b[0mforecast\u001b[0m\u001b[1;33m(\u001b[0m\u001b[1;36m10\u001b[0m\u001b[1;33m)\u001b[0m\u001b[1;33m\u001b[0m\u001b[1;33m\u001b[0m\u001b[0m\n\u001b[0;32m      4\u001b[0m \u001b[0mgrayforecast\u001b[0m\u001b[1;33m.\u001b[0m\u001b[0mlog\u001b[0m\u001b[1;33m(\u001b[0m\u001b[1;33m)\u001b[0m\u001b[1;33m\u001b[0m\u001b[1;33m\u001b[0m\u001b[0m\n\u001b[1;32m----> 5\u001b[1;33m \u001b[0mgrayforecast\u001b[0m\u001b[1;33m.\u001b[0m\u001b[0mplot\u001b[0m\u001b[1;33m(\u001b[0m\u001b[1;33m)\u001b[0m\u001b[1;33m\u001b[0m\u001b[1;33m\u001b[0m\u001b[0m\n\u001b[0m",
      "\u001b[1;32m<ipython-input-65-92426727ff27>\u001b[0m in \u001b[0;36mplot\u001b[1;34m(self)\u001b[0m\n\u001b[0;32m     90\u001b[0m         \u001b[0mself\u001b[0m\u001b[1;33m.\u001b[0m\u001b[0mforecast_list\u001b[0m\u001b[1;33m.\u001b[0m\u001b[0mplot\u001b[0m\u001b[1;33m(\u001b[0m\u001b[1;33m)\u001b[0m\u001b[1;33m\u001b[0m\u001b[1;33m\u001b[0m\u001b[0m\n\u001b[0;32m     91\u001b[0m         \u001b[1;32mif\u001b[0m \u001b[0mself\u001b[0m\u001b[1;33m.\u001b[0m\u001b[0mdatacolumn\u001b[0m\u001b[1;33m:\u001b[0m\u001b[1;33m\u001b[0m\u001b[1;33m\u001b[0m\u001b[0m\n\u001b[1;32m---> 92\u001b[1;33m             \u001b[0mplt\u001b[0m\u001b[1;33m.\u001b[0m\u001b[0mylabel\u001b[0m\u001b[1;33m(\u001b[0m\u001b[0mself\u001b[0m\u001b[1;33m.\u001b[0m\u001b[0mdatacolumn\u001b[0m\u001b[1;33m)\u001b[0m\u001b[1;33m\u001b[0m\u001b[1;33m\u001b[0m\u001b[0m\n\u001b[0m\u001b[0;32m     93\u001b[0m             \u001b[0mplt\u001b[0m\u001b[1;33m.\u001b[0m\u001b[0mlegend\u001b[0m\u001b[1;33m(\u001b[0m\u001b[1;33m[\u001b[0m\u001b[0mself\u001b[0m\u001b[1;33m.\u001b[0m\u001b[0mdatacolumn\u001b[0m\u001b[1;33m]\u001b[0m\u001b[1;33m)\u001b[0m\u001b[1;33m\u001b[0m\u001b[1;33m\u001b[0m\u001b[0m\n",
      "\u001b[1;31mAttributeError\u001b[0m: module 'matplotlib' has no attribute 'ylabel'"
     ]
    },
    {
     "data": {
      "image/png": "[encoded data removed]",
      "text/plain": [
       "<Figure size 432x288 with 1 Axes>"
      ]
     },
     "metadata": {
      "needs_background": "light"
     },
     "output_type": "display_data"
    }
   ],
   "source": [
    "import pandas as pd\n",
    "grayforecast = GrayForecast(df,'money')\n",
    "grayforecast.forecast(10)\n",
    "grayforecast.log()\n",
    "grayforecast.plot()"
   ]
  },
  {
   "cell_type": "code",
   "execution_count": null,
   "metadata": {},
   "outputs": [],
   "source": []
  },
  {
   "cell_type": "code",
   "execution_count": null,
   "metadata": {},
   "outputs": [],
   "source": []
  }
 ],
 "metadata": {
  "kernelspec": {
   "display_name": "Python 3",
   "language": "python",
   "name": "python3"
  },
  "language_info": {
   "codemirror_mode": {
    "name": "ipython",
    "version": 3
   },
   "file_extension": ".py",
   "mimetype": "text/x-python",
   "name": "python",
   "nbconvert_exporter": "python",
   "pygments_lexer": "ipython3",
   "version": "3.7.4"
  }
 },
 "nbformat": 4,
 "nbformat_minor": 2
}
